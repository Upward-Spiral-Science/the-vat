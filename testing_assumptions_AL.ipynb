{
 "cells": [
  {
   "cell_type": "markdown",
   "metadata": {},
   "source": [
    "# Testing Assumptions\n",
    "1. State Assumptions\n",
    "2. Check Assumptions with figures using:\n",
    "    * residuals\n",
    "    * correlations\n",
    "    * Number of modes\n",
    "\n",
    "## Step 1: State Assumptions For Our Data\n",
    "We have data X = {$X_i: i={1,...,n}, X_i ~ i.i.d. F$}\n",
    "\n",
    "1. X_i are all identically and independently distributed in the distribution F.\n",
    "\n",
    "All our data is i.i.d. So can check using a correlation matrix -> only checks for linear dependencies\n",
    "-> can plot histogram of correlations to see if there are outliers\n",
    "\n",
    "Plot scatter plots of each X_i with each other\n",
    "\n",
    "\n",
    "paired scatter plots - plot subsamples\n",
    "\n",
    "## Step 2: Check Assumptions\n",
    "\n",
    "Ideas: Compute the comparison statistic for independence for \"rows\" closest to each other vs. farthest away\n",
    "Read paper and compute the independence test"
   ]
  },
  {
   "cell_type": "code",
   "execution_count": 34,
   "metadata": {
    "collapsed": true
   },
   "outputs": [],
   "source": [
    "# Import Necessary Libraries\n",
    "import numpy as np\n",
    "import os, csv, json\n",
    "import math\n",
    "import random\n",
    "\n",
    "from matplotlib import *\n",
    "from matplotlib import pyplot as plt\n",
    "\n",
    "import scipy\n",
    "import itertools\n",
    "from sklearn.decomposition import PCA\n",
    "from sklearn.cluster import MiniBatchKMeans\n",
    "from sklearn.cluster import AgglomerativeClustering\n",
    "from sklearn import cluster\n",
    "\n",
    "# pretty charting\n",
    "import seaborn as sns\n",
    "sns.set_palette('muted')\n",
    "sns.set_style('darkgrid')\n",
    "\n",
    "%matplotlib inline"
   ]
  },
  {
   "cell_type": "code",
   "execution_count": 2,
   "metadata": {
    "collapsed": false
   },
   "outputs": [],
   "source": [
    "#### RUN AT BEGINNING AND TRY NOT TO RUN AGAIN - TAKES WAY TOO LONG ####\n",
    "# write new list_of_features to new txt file\n",
    "csvfile = \"data_normalized/shortenedFeatures_normalized.txt\"\n",
    "\n",
    "# load in the feature data\n",
    "list_of_features = []\n",
    "with open(csvfile) as file:\n",
    "    for line in file:\n",
    "        inner_list = [float(elt.strip()) for elt in line.split(',')]\n",
    "        \n",
    "        # create list of features\n",
    "        list_of_features.append(inner_list)\n",
    "\n",
    "# conver to a numpy matrix\n",
    "list_of_features = np.array(list_of_features)"
   ]
  },
  {
   "cell_type": "code",
   "execution_count": 3,
   "metadata": {
    "collapsed": true
   },
   "outputs": [],
   "source": [
    "# 01A\n",
    "\n",
    "#### RUN AT BEGINNING AND TRY NOT TO RUN AGAIN - TAKES WAY TOO LONG ####\n",
    "# read in normalized data locations\n",
    "csvfile = \"data_normalized/locations_normalized.txt\"\n",
    "\n",
    "# load in the feature data\n",
    "list_of_locations = []\n",
    "with open(csvfile) as file:\n",
    "    for line in file:\n",
    "        inner_list = [float(elt.strip()) for elt in line.split(',')]\n",
    "        \n",
    "        # create list of features\n",
    "        list_of_locations.append(inner_list)\n",
    "\n",
    "# convert to a numpy matrix\n",
    "list_of_locations = np.array(list_of_locations)"
   ]
  },
  {
   "cell_type": "code",
   "execution_count": 55,
   "metadata": {
    "collapsed": true
   },
   "outputs": [],
   "source": [
    "# 01B\n",
    "\n",
    "#### RUN AT BEGINNING AND TRY NOT TO RUN AGAIN - TAKES WAY TOO LONG ####\n",
    "#### this is only to run for non-normalized to see if we get the same results\n",
    "csvfile = \"data/synapsinR_7thA.tif.Pivots.txt\"\n",
    "\n",
    "# load in the feature data\n",
    "list_of_locations = []\n",
    "with open(csvfile) as file:\n",
    "    for line in file:\n",
    "        inner_list = [float(elt.strip()) for elt in line.split(',')]\n",
    "        \n",
    "        # create list of features\n",
    "        list_of_locations.append(inner_list)\n",
    "\n",
    "# convert to a numpy matrix\n",
    "list_of_locations = np.array(list_of_locations)"
   ]
  },
  {
   "cell_type": "code",
   "execution_count": 4,
   "metadata": {
    "collapsed": true
   },
   "outputs": [],
   "source": [
    "ten_means = MiniBatchKMeans(n_clusters=10).fit(list_of_features)"
   ]
  },
  {
   "cell_type": "code",
   "execution_count": 5,
   "metadata": {
    "collapsed": true
   },
   "outputs": [],
   "source": [
    "true_means = MiniBatchKMeans(n_clusters=17).fit(list_of_features)"
   ]
  },
  {
   "cell_type": "code",
   "execution_count": 6,
   "metadata": {
    "collapsed": true
   },
   "outputs": [],
   "source": [
    "thirty_means = MiniBatchKMeans(n_clusters=30).fit(list_of_features)"
   ]
  },
  {
   "cell_type": "code",
   "execution_count": 9,
   "metadata": {
    "collapsed": false
   },
   "outputs": [
    {
     "name": "stdout",
     "output_type": "stream",
     "text": [
      "(10, 96)\n",
      "(17, 96)\n",
      "(30, 96)\n"
     ]
    },
    {
     "data": {
      "text/plain": [
       "<matplotlib.colorbar.Colorbar at 0x120e64b10>"
      ]
     },
     "execution_count": 9,
     "metadata": {},
     "output_type": "execute_result"
    },
    {
     "data": {
      "image/png": "[encoded data removed]",
      "text/plain": [
       "<matplotlib.figure.Figure at 0x11a2741d0>"
      ]
     },
     "metadata": {},
     "output_type": "display_data"
    }
   ],
   "source": [
    "# compute distances between each centroid\n",
    "centroids = ten_means.cluster_centers_\n",
    "print centroids.shape\n",
    "distances = scipy.spatial.distance.pdist(centroids, metric='cosine')\n",
    "distances = scipy.spatial.distance.squareform(distances)\n",
    "\n",
    "true_centroids = true_means.cluster_centers_\n",
    "print true_centroids.shape\n",
    "true_distances = scipy.spatial.distance.pdist(true_centroids, metric='cosine')\n",
    "true_distances = scipy.spatial.distance.squareform(true_distances)\n",
    "\n",
    "thirty_centroids = thirty_means.cluster_centers_\n",
    "print thirty_centroids.shape\n",
    "thirty_distances = scipy.spatial.distance.pdist(thirty_centroids, metric='cosine')\n",
    "thirty_distances = scipy.spatial.distance.squareform(thirty_distances)\n",
    "\n",
    "# Plot the distances\n",
    "fig = plt.figure(figsize=(30,15))\n",
    "fig.add_subplot(131)\n",
    "plt.imshow(distances, cmap=plt.get_cmap('jet'), interpolation='none')\n",
    "plt.title(\"Cosine Distance plot of all features Clusters = 10\")\n",
    "plt.yticks(np.arange(0.5,10.5, 1))\n",
    "plt.xticks(np.arange(0.5,10.5, 1))\n",
    "plt.colorbar()\n",
    "\n",
    "fig.add_subplot(132)\n",
    "plt.imshow(true_distances, cmap=plt.get_cmap('jet'), interpolation='none')\n",
    "plt.title(\"Distance plot of all features Clusters = 17\")\n",
    "plt.yticks(np.arange(0.5,17.5, 1))\n",
    "plt.xticks(np.arange(0.5,17.5, 1))\n",
    "plt.colorbar()\n",
    "\n",
    "fig.add_subplot(133)\n",
    "plt.imshow(thirty_distances, cmap=plt.get_cmap('jet'), interpolation='none')\n",
    "plt.title(\"Distance plot of all features Clusters = 30\")\n",
    "plt.yticks(np.arange(0.5,30.5, 1))\n",
    "plt.xticks(np.arange(0.5,30.5, 1))\n",
    "plt.colorbar()"
   ]
  },
  {
   "cell_type": "code",
   "execution_count": null,
   "metadata": {
    "collapsed": false
   },
   "outputs": [],
   "source": [
    "## Running multi scale clustering\n",
    "numFigs = len(range(2,18,2))\n",
    "print numFigs\n",
    "\n",
    "def kmeanTwo(features):\n",
    "    true_means = MiniBatchKMeans(n_clusters=2).fit(features)\n",
    "    \n",
    "    labels = np.unique(true_means.labels_)\n",
    "\n",
    "    cluster1 = features[labels==label[0]]\n",
    "    cluster2 = features[labels==label[1]]\n",
    "    print cluster1.shape\n",
    "    print cluster2.shape\n",
    "\n",
    "temp_features = list_of_features\n",
    "kmeanTwo(temp_features)\n",
    "\n",
    "# for idx, i in enumerate(range(2, 18, 2)):\n",
    "\n",
    "# for i in range(0,8):\n",
    "#     true_means = MiniBatchKMeans(n_clusters=2).fit(temp_features)\n",
    "\n",
    "# #     MiniBatchKMeans(n_clusters=i).\n",
    "#     labels = np.unique(true_means.labels_)\n",
    "    \n",
    "#     for idx, label in enumerate(labels):\n",
    "#         cluster1 = temp_features[labels==label]\n",
    "#         cluster\n",
    "#     classes = {}\n",
    "#     for label in labels:\n",
    "        \n",
    "#     break\n",
    "#     true_centroids = true_means.cluster_centers_\n",
    "\n",
    "#     true_distances = scipy.spatial.distance.pdist(true_centroids, metric='euclidean')\n",
    "#     true_distances = scipy.spatial.distance.squareform(true_distances)\n",
    "\n",
    "#     # Plot the distances\n",
    "#     fig = plt.figure(figsize=(10, 50))\n",
    "#     fig.add_subplot(numFigs, 1, idx+1)\n",
    "#     plt.imshow(true_distances, cmap=plt.get_cmap('jet'), interpolation='none')\n",
    "#     plt.title(\"Distance plot of all features Clusters = \" + str(i))\n",
    "#     plt.yticks(np.arange(0.5,i+0.5, 1))\n",
    "#     plt.xticks(np.arange(0.5,i+0.5, 1))\n",
    "#     plt.colorbar()"
   ]
  },
  {
   "cell_type": "code",
   "execution_count": null,
   "metadata": {
    "collapsed": false
   },
   "outputs": [],
   "source": [
    "true_means = AgglomerativeClustering(n_clusters=17, affinity='euclidean').fit(list_of_features)"
   ]
  },
  {
   "cell_type": "code",
   "execution_count": 34,
   "metadata": {
    "collapsed": false
   },
   "outputs": [
    {
     "data": {
      "text/plain": [
       "<matplotlib.collections.PathCollection at 0x1cc58d710>"
      ]
     },
     "execution_count": 34,
     "metadata": {},
     "output_type": "execute_result"
    },
    {
     "data": {
      "image/png": "[encoded data removed]",
      "text/plain": [
       "<matplotlib.figure.Figure at 0x1a00681d0>"
      ]
     },
     "metadata": {},
     "output_type": "display_data"
    }
   ],
   "source": [
    "colors = np.array([x for x in 'bgrcmykbgrcmykbgrcmykbgrcmyk'])\n",
    "colors = np.hstack([colors] * 20)\n",
    "\n",
    "spectral = cluster.SpectralClustering(n_clusters=3,\n",
    "                                          eigen_solver='arpack',\n",
    "                                          affinity=\"nearest_neighbors\")\n",
    "\n",
    "test = spectral.fit_predict(distances)\n",
    "#  plt.scatter(X[:, 0], X[:, 1], color=colors[y_pred].tolist(), s=10)\n",
    "plt.scatter(distances, distances, color=colors[test], s=10)\n",
    "# plt.imshow(distances, s=10)\n",
    "# fig = plt.figure(figsize=(10,10))\n",
    "# plt.imshow(distances, cmap=plt.get_cmap('jet'))\n",
    "# plt.title(\"Distance plot of all features Clusters\")\n",
    "# plt.yticks(np.arange(0.5,10.5, 1))\n",
    "# plt.xticks(np.arange(0.5,10.5, 1))\n",
    "# plt.colorbar()"
   ]
  },
  {
   "cell_type": "code",
   "execution_count": 10,
   "metadata": {
    "collapsed": false
   },
   "outputs": [
    {
     "name": "stdout",
     "output_type": "stream",
     "text": [
      "Once deleted, variables cannot be recovered. Proceed (y/[n])?  y\n"
     ]
    }
   ],
   "source": [
    "true_indices = true_means.predict(list_of_features)\n",
    "\n",
    "%reset_selective ten_means thirty_means"
   ]
  },
  {
   "cell_type": "code",
   "execution_count": 11,
   "metadata": {
    "collapsed": false
   },
   "outputs": [
    {
     "name": "stdout",
     "output_type": "stream",
     "text": [
      "[0, 1, 2, 3, 4, 5, 6, 7, 8, 9, 10, 11, 12, 13, 14, 15, 16]\n",
      "[0, 1, 2, 3, 4, 5, 6, 7, 8, 9, 10, 11, 12, 13, 14, 15, 16]\n"
     ]
    }
   ],
   "source": [
    "from collections import defaultdict\n",
    "\n",
    "clusters = defaultdict(list)\n",
    "location_clusters = defaultdict(list)\n",
    "\n",
    "for i in range(0, len(true_indices)):\n",
    "    clusters[true_indices[i]].append(list_of_features[i])\n",
    "    location_clusters[true_indices[i]].append(list_of_locations[i])\n",
    "    \n",
    "print clusters.keys()\n",
    "print location_clusters.keys()"
   ]
  },
  {
   "cell_type": "code",
   "execution_count": 20,
   "metadata": {
    "collapsed": false
   },
   "outputs": [
    {
     "name": "stdout",
     "output_type": "stream",
     "text": [
      "39197\n",
      "50631\n",
      "68403\n",
      "152644\n",
      "61540\n",
      "58927\n",
      "68423\n",
      "71682\n",
      "62878\n",
      "67246\n",
      "80623\n",
      "48490\n",
      "34881\n",
      "68959\n",
      "44416\n",
      "51158\n",
      "89201\n",
      "1119299\n",
      "1119299\n"
     ]
    }
   ],
   "source": [
    "sum_clust = 0\n",
    "for key in clusters.keys():\n",
    "#     sum_clust += len(clusters[key])\n",
    "#     print len(clusters[key])\n",
    "    sum_clust += len(location_clusters[key])\n",
    "    print len(location_clusters[key])\n",
    "\n",
    "print sum_clust\n",
    "print len(list_of_features)"
   ]
  },
  {
   "cell_type": "code",
   "execution_count": null,
   "metadata": {
    "collapsed": false
   },
   "outputs": [],
   "source": [
    "#### plot of all locations <x,y,z> for all 17 clusters\n",
    "fig = plt.figure(figsize=(15,5*17))\n",
    "\n",
    "numrows = math.ceil(len(location_clusters.keys())/3.) # row in subplot\n",
    "numrows = len(location_clusters.keys())\n",
    "\n",
    "# plt.show()\n",
    "index = 0\n",
    "for i in location_clusters.keys():\n",
    "    locations = np.array(location_clusters[i])\n",
    "    \n",
    "    x_locs = locations[0,:]\n",
    "    y_locs = locations[1,:]\n",
    "    z_locs = locations[2,:]\n",
    "\n",
    "    plt.subplot(numrows, 3, index+1)\n",
    "    plt.hist(x_locs)\n",
    "    plt.subplot(numrows, 3, index+2)\n",
    "    plt.hist(y_locs)\n",
    "    plt.subplot(numrows, 3, index+3)\n",
    "    plt.hist(z_locs)\n",
    "    plt.xlabel('range of locations')\n",
    "    plt.ylabel('frequency')\n",
    "    \n",
    "    index += 3 # index for the locations"
   ]
  },
  {
   "cell_type": "code",
   "execution_count": 85,
   "metadata": {
    "collapsed": false
   },
   "outputs": [
    {
     "ename": "ValueError",
     "evalue": "Error while trying to convert element 0 to a double.",
     "output_type": "error",
     "traceback": [
      "\u001b[0;31m---------------------------------------------------------------------------\u001b[0m",
      "\u001b[0;31mValueError\u001b[0m                                Traceback (most recent call last)",
      "\u001b[0;32m<ipython-input-85-e9c3a44262fa>\u001b[0m in \u001b[0;36m<module>\u001b[0;34m()\u001b[0m\n\u001b[1;32m     20\u001b[0m \u001b[0mx\u001b[0m \u001b[0;34m=\u001b[0m \u001b[0mnp\u001b[0m\u001b[0;34m.\u001b[0m\u001b[0mrandom\u001b[0m\u001b[0;34m.\u001b[0m\u001b[0mmultivariate_normal\u001b[0m\u001b[0;34m(\u001b[0m\u001b[0mmean\u001b[0m\u001b[0;34m,\u001b[0m \u001b[0mcov\u001b[0m\u001b[0;34m,\u001b[0m \u001b[0;36m40\u001b[0m\u001b[0;34m)\u001b[0m\u001b[0;34m.\u001b[0m\u001b[0mT\u001b[0m\u001b[0;34m\u001b[0m\u001b[0m\n\u001b[1;32m     21\u001b[0m \u001b[0;34m\u001b[0m\u001b[0m\n\u001b[0;32m---> 22\u001b[0;31m \u001b[0mx\u001b[0m \u001b[0;34m=\u001b[0m \u001b[0mrobjects\u001b[0m\u001b[0;34m.\u001b[0m\u001b[0mFloatVector\u001b[0m\u001b[0;34m(\u001b[0m\u001b[0mx\u001b[0m\u001b[0;34m)\u001b[0m\u001b[0;34m\u001b[0m\u001b[0m\n\u001b[0m\u001b[1;32m     23\u001b[0m \u001b[0my\u001b[0m \u001b[0;34m=\u001b[0m \u001b[0mrobjects\u001b[0m\u001b[0;34m.\u001b[0m\u001b[0mFloatVector\u001b[0m\u001b[0;34m(\u001b[0m\u001b[0my\u001b[0m\u001b[0;34m)\u001b[0m\u001b[0;34m\u001b[0m\u001b[0m\n\u001b[1;32m     24\u001b[0m \u001b[0;34m\u001b[0m\u001b[0m\n",
      "\u001b[0;32m/Users/adam2392/anaconda/lib/python2.7/site-packages/rpy2/robjects/vectors.pyc\u001b[0m in \u001b[0;36m__init__\u001b[0;34m(self, obj)\u001b[0m\n\u001b[1;32m    454\u001b[0m \u001b[0;34m\u001b[0m\u001b[0m\n\u001b[1;32m    455\u001b[0m     \u001b[0;32mdef\u001b[0m \u001b[0m__init__\u001b[0m\u001b[0;34m(\u001b[0m\u001b[0mself\u001b[0m\u001b[0;34m,\u001b[0m \u001b[0mobj\u001b[0m\u001b[0;34m)\u001b[0m\u001b[0;34m:\u001b[0m\u001b[0;34m\u001b[0m\u001b[0m\n\u001b[0;32m--> 456\u001b[0;31m         \u001b[0mobj\u001b[0m \u001b[0;34m=\u001b[0m \u001b[0mFloatSexpVector\u001b[0m\u001b[0;34m(\u001b[0m\u001b[0mobj\u001b[0m\u001b[0;34m)\u001b[0m\u001b[0;34m\u001b[0m\u001b[0m\n\u001b[0m\u001b[1;32m    457\u001b[0m         \u001b[0msuper\u001b[0m\u001b[0;34m(\u001b[0m\u001b[0mFloatVector\u001b[0m\u001b[0;34m,\u001b[0m \u001b[0mself\u001b[0m\u001b[0;34m)\u001b[0m\u001b[0;34m.\u001b[0m\u001b[0m__init__\u001b[0m\u001b[0;34m(\u001b[0m\u001b[0mobj\u001b[0m\u001b[0;34m)\u001b[0m\u001b[0;34m\u001b[0m\u001b[0m\n\u001b[1;32m    458\u001b[0m \u001b[0;34m\u001b[0m\u001b[0m\n",
      "\u001b[0;31mValueError\u001b[0m: Error while trying to convert element 0 to a double."
     ]
    }
   ],
   "source": [
    "#### Set up R Independence Test \n",
    "from rpy2 import robjects\n",
    "from rpy2.robjects import r\n",
    "from pandas.rpy.common import load_data\n",
    "\n",
    "#### Rejects if dependent data\n",
    "r('''\n",
    "f <- function(x, y, verbose=FALSE) {\n",
    "    if (verbose) {\n",
    "        cat(\"I am calling independence test with energy package.\\n\")\n",
    "    }\n",
    "    energy::indep.test(x, y, method=\"mvI\", R=99)\n",
    "}\n",
    "''')\n",
    "\n",
    "indep_test = r['f']"
   ]
  },
  {
   "cell_type": "code",
   "execution_count": 78,
   "metadata": {
    "collapsed": false
   },
   "outputs": [
    {
     "name": "stdout",
     "output_type": "stream",
     "text": [
      "1249975000\n",
      "(1249975000,)\n"
     ]
    }
   ],
   "source": [
    "np.random.seed(12345678)  # for reproducibility, set random seed\n",
    "\n",
    "# Need to first downsample\n",
    "rand_indices = random.sample(range(0,len(list_of_locations)), 50000)\n",
    "\n",
    "# print list_of_locations[rand_indices]\n",
    "# compute distance matrix of all locations relative to another\n",
    "true_distances = scipy.spatial.distance.pdist(list_of_locations[rand_indices])\n",
    "\n",
    "# downsample features and locations\n",
    "list_of_features = list_of_features[rand_indices]\n",
    "list_of_locations = list_of_locations[rand_indices]\n",
    "\n",
    "print len(true_distances)\n",
    "print true_distances.shape"
   ]
  },
  {
   "cell_type": "code",
   "execution_count": null,
   "metadata": {
    "collapsed": false
   },
   "outputs": [],
   "source": [
    "##### Testing independence for each row that is close to another vs. farthest away #####\n",
    "# 01: get feature\n",
    "# 02: get closest and farthest feature using euclidean norm\n",
    "# 03:\n",
    "\n",
    "n = len(list_of_features)\n",
    "pvals = np.array(())\n",
    "\n",
    "print \"The new length of features is: \", n\n",
    "##01: Get Features\n",
    "for i in range(0, len(list_of_features)): # loop through each feature and perform step 2\n",
    "    feature = list_of_features[i] # get current features\n",
    "    \n",
    "    ##02: Get closest and farthest feature\n",
    "    location = list_of_locations[i] # get location\n",
    "    \n",
    "    # search for closest location using euclidean norm\n",
    "    # search for all j's * i through pdist struct\n",
    "    j = range(i+1, n)\n",
    "    if i == 0:\n",
    "        indices_to_search = j\n",
    "    else:\n",
    "        indices_to_search = np.dot(i,j)\n",
    "    \n",
    "    # store the locations of the ones we have to search through for min/max\n",
    "    compare_locations = true_distances[indices_to_search]\n",
    "    close_index = list(compare_locations).index(min(compare_locations))\n",
    "    far_index = list(compare_locations).index(max(compare_locations))\n",
    "    \n",
    "    # convert to indices in the list_of_locations/list_of_features\n",
    "    if i==0:\n",
    "        close_index = close_index\n",
    "        far_index = far_index\n",
    "    else:\n",
    "        close_index = close_index/i\n",
    "        far_index = far_index/i\n",
    "    \n",
    "    # find close and far feature\n",
    "    close_feature = list_of_features[close_index]\n",
    "    far_feature = list_of_features[far_index]\n",
    "    \n",
    "    ##03: compute independence test\n",
    "    # first convert things to R data structures\n",
    "    close_feature = robjects.FloatVector(close_feature)\n",
    "    far_feature = robjects.FloatVector(far_feature)\n",
    "    feature = robjects.FloatVector(feature)\n",
    "    \n",
    "    test_close = indep_test(feature, close_feature)\n",
    "    test_far = indep_test(feature, far_feature)\n",
    "    pval_close = test_close[4]\n",
    "    pval_far = test_far[4]\n",
    "    \n",
    "    pvals = np.append(pvals, (pval_close, pval_far))"
   ]
  },
  {
   "cell_type": "markdown",
   "metadata": {},
   "source": [
    "# Discussion:\n",
    "Looking at the locations spread in each cluster, it's always bimodal...?"
   ]
  }
 ],
 "metadata": {
  "kernelspec": {
   "display_name": "Python 2",
   "language": "python",
   "name": "python2"
  },
  "language_info": {
   "codemirror_mode": {
    "name": "ipython",
    "version": 2
   },
   "file_extension": ".py",
   "mimetype": "text/x-python",
   "name": "python",
   "nbconvert_exporter": "python",
   "pygments_lexer": "ipython2",
   "version": "2.7.11"
  }
 },
 "nbformat": 4,
 "nbformat_minor": 0
}
