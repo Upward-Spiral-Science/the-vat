{
 "cells": [
  {
   "cell_type": "markdown",
   "metadata": {},
   "source": [
    "# Testing Assumptions\n",
    "1. State Assumptions\n",
    "2. Check Assumptions with figures using:\n",
    "    * residuals\n",
    "    * correlations\n",
    "    * Number of modes\n",
    "\n",
    "## Step 1: State Assumptions For Our Data\n",
    "We have data X = {$X_i: i={1,...,n}, X_i ~ i.i.d. F$}\n",
    "\n",
    "1. X_i are all identically and independently distributed in the distribution F.\n",
    "\n",
    "All our data is i.i.d. So can check using a correlation matrix -> only checks for linear dependencies\n",
    "-> can plot histogram of correlations to see if there are outliers\n",
    "\n",
    "Plot scatter plots of each X_i with each other\n",
    "\n",
    "\n",
    "paired scatter plots - plot subsamples\n",
    "\n",
    "## Step 2: Check Assumptions\n",
    "\n",
    "Ideas: Compute the comparison statistic for independence for \"rows\" closest to each other vs. farthest away\n",
    "Read paper and compute the independence test"
   ]
  },
  {
   "cell_type": "code",
   "execution_count": null,
   "metadata": {
    "collapsed": true
   },
   "outputs": [],
   "source": []
  }
 ],
 "metadata": {
  "kernelspec": {
   "display_name": "Python 2",
   "language": "python",
   "name": "python2"
  },
  "language_info": {
   "codemirror_mode": {
    "name": "ipython",
    "version": 2
   },
   "file_extension": ".py",
   "mimetype": "text/x-python",
   "name": "python",
   "nbconvert_exporter": "python",
   "pygments_lexer": "ipython2",
   "version": "2.7.11"
  }
 },
 "nbformat": 4,
 "nbformat_minor": 0
}
