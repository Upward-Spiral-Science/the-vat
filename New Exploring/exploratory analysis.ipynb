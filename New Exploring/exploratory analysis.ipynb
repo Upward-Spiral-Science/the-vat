{
 "cells": [
  {
   "cell_type": "code",
   "execution_count": 24,
   "metadata": {
    "collapsed": true
   },
   "outputs": [],
   "source": [
    "# Import Necessary Libraries\n",
    "import numpy as np\n",
    "import os, csv, json\n",
    "\n",
    "from matplotlib import *\n",
    "from matplotlib import pyplot as plt\n",
    "\n",
    "from mpl_toolkits.mplot3d import Axes3D\n",
    "import scipy\n",
    "from scipy.cluster.hierarchy import dendrogram, linkage\n",
    "from sklearn.neighbors import KernelDensity\n",
    "\n",
    "#### Set up R Independence Test \n",
    "np.random.seed(12345678)  # for reproducibility, set random seed\n",
    "from rpy2 import robjects\n",
    "from rpy2.robjects import r\n",
    "\n",
    "# pretty charting\n",
    "import seaborn as sns\n",
    "sns.set_palette('muted')\n",
    "sns.set_style('darkgrid')\n",
    "\n",
    "%matplotlib inline"
   ]
  },
  {
   "cell_type": "markdown",
   "metadata": {},
   "source": [
    "# Channels\n",
    "Here is the cell describing each channel column for each measurement metric. "
   ]
  },
  {
   "cell_type": "code",
   "execution_count": 41,
   "metadata": {
    "collapsed": false
   },
   "outputs": [
    {
     "name": "stdout",
     "output_type": "stream",
     "text": [
      "['Synap_01', 'Synap_02', 'VGlut1_01', 'VGlut1_02', 'VGlut2', 'Vglut3', 'psd', 'glur2', 'nmdar1', 'nr2b', 'gad', 'VGAT', 'PV', 'Gephyr', 'GABAR1', 'GABABR', 'CR1', '5HT1A', 'NOS', 'TH', 'VACht', 'Synapo', 'tubuli', 'DAPI']\n",
      "['ex.pre', 'ex.pre', 'ex.pre', 'ex.pre', 'ex.pre', 'in.pre.small', 'ex.post', 'ex.post', 'ex.post', 'ex.post', 'in.pre', 'in.pre', 'in.pre', 'in.post', 'in.post', 'in.post', 'in.pre.small', 'other', 'ex.post', 'other', 'other', 'ex.post', 'none', 'none']\n"
     ]
    }
   ],
   "source": [
    "from pprint import pprint\n",
    "# channel = ['Synap','Synap','VGlut1','VGlut1','VGlut2','Vglut3',\n",
    "#            'psd','glur2','nmdar1','nr2b','gad','VGAT', 'PV','Gephyr',\n",
    "#            'GABAR1','GABABR','CR1','5HT1A', 'NOS','TH','VACht',\n",
    "#            'Synapo','tubuli','DAPI']\n",
    "\n",
    "channel = ['Synap_01','Synap_02','VGlut1_01','VGlut1_02','VGlut2','Vglut3',\n",
    "           'psd','glur2','nmdar1','nr2b','gad','VGAT', 'PV','Gephyr',\n",
    "           'GABAR1','GABABR','CR1','5HT1A', 'NOS','TH','VACht',\n",
    "           'Synapo','tubuli','DAPI']\n",
    "\n",
    "channeltype = ['ex.pre','ex.pre','ex.pre','ex.pre','ex.pre','in.pre.small', \n",
    "               'ex.post','ex.post','ex.post','ex.post','in.pre','in.pre', \n",
    "               'in.pre','in.post','in.post','in.post','in.pre.small','other',\n",
    "               'ex.post','other','other','ex.post','none','none']\n",
    "print(channel)\n",
    "print(channeltype)"
   ]
  },
  {
   "cell_type": "code",
   "execution_count": 3,
   "metadata": {
    "collapsed": false
   },
   "outputs": [],
   "source": [
    "#### RUN AT BEGINNING AND TRY NOT TO RUN AGAIN - TAKES WAY TOO LONG ####\n",
    "# load in the feature data\n",
    "list_of_features = []\n",
    "with open('../data/synapsinR_7thA.tif.Pivots.txt.2011Features.txt') as file:\n",
    "    for line in file:\n",
    "        inner_list = [float(elt.strip()) for elt in line.split(',')]\n",
    "        \n",
    "        # create list of features\n",
    "        list_of_features.append(inner_list)\n",
    "\n",
    "# conver to a numpy matrix\n",
    "list_of_features = np.array(list_of_features)"
   ]
  },
  {
   "cell_type": "code",
   "execution_count": 4,
   "metadata": {
    "collapsed": false
   },
   "outputs": [
    {
     "name": "stdout",
     "output_type": "stream",
     "text": [
      "(1119299, 144)\n"
     ]
    }
   ],
   "source": [
    "# SAVE ENTIRE TRANSFORMED DATA \n",
    "\n",
    "def normalize(X):\n",
    "    mn = np.min(X, axis=0)\n",
    "    mx = np.max(X, axis=0)\n",
    "    rn = mx - mn\n",
    "    X = np.array([(r - mn)/rn for r in X])\n",
    "    return X\n",
    "\n",
    "def log_transform(X, norm=False):\n",
    "    X = np.log(normalize(X) + 1) if norm else np.log(X + 1)\n",
    "    return X\n",
    "\n",
    "def sqrt_transform(X, norm=False):\n",
    "    X = np.sqrt(normalize(X)) if norm else np.sqrt(X)\n",
    "    return X\n",
    "\n",
    "X = list_of_features\n",
    "Xlog = log_transform(X)\n",
    "Xsq = sqrt_transform(X)\n",
    "np.save('../data/synapse_features_log.npy',Xlog)\n",
    "np.save('../data/synapse_features_sqrt.npy',Xsq)\n",
    "Xlog = log_transform(X, norm=True)\n",
    "Xsq = sqrt_transform(X, norm=True)\n",
    "np.save('../data/synapse_features_log_normalized.npy',Xlog)\n",
    "np.save('../data/synapse_features_sqrt_normalized.npy',Xsq)"
   ]
  },
  {
   "cell_type": "code",
   "execution_count": 6,
   "metadata": {
    "collapsed": false
   },
   "outputs": [],
   "source": [
    "# SAVE ONLY F0 TRANSFORMED DATA\n",
    "X_f0 = list_of_features[:,0:24]\n",
    "X = X_f0\n",
    "Xlog = log_transform(X)\n",
    "Xsq = sqrt_transform(X)\n",
    "np.save('../data/synapse_f0_features_log.npy',Xlog)\n",
    "np.save('../data/synapse_f0_features_sqrt.npy',Xsq)\n",
    "Xlog = log_transform(X, norm=True)\n",
    "Xsq = sqrt_transform(X, norm=True)\n",
    "np.save('../data/synapse_f0_features_log_normalized.npy',Xlog)\n",
    "np.save('../data/synapse_f0_features_sqrt_normalized.npy',Xsq)"
   ]
  },
  {
   "cell_type": "markdown",
   "metadata": {},
   "source": [
    "## LOAD F0 DATA FOR LOG TRANSFORMED\n",
    "Load in log-transformed data and start running analysis\n",
    "\n",
    "1. BIC of k-means with only excitatory and inhibitory synapses\n",
    "2. Then remove bottom 25, 50, 75 % of synapsin values to downsample and try k-means again\n",
    "3. kernel density estimates (tyler getting it)\n",
    "4. try outlier detection"
   ]
  },
  {
   "cell_type": "code",
   "execution_count": 13,
   "metadata": {
    "collapsed": true
   },
   "outputs": [],
   "source": [
    "# http://stats.stackexchange.com/questions/90769/using-bic-to-estimate-the-number-of-k-in-kmeans\n",
    "# definition for computing BIC\n",
    "def compute_bic(kmeans,X):\n",
    "    \"\"\"\n",
    "    Computes the BIC metric for a given clusters\n",
    "\n",
    "    Parameters:\n",
    "    -----------------------------------------\n",
    "    kmeans:  List of clustering object from scikit learn\n",
    "\n",
    "    X     :  multidimension np array of data points\n",
    "\n",
    "    Returns:\n",
    "    -----------------------------------------\n",
    "    BIC value\n",
    "    \"\"\"\n",
    "    # assign centers and labels\n",
    "    centers = [kmeans.cluster_centers_]\n",
    "    labels  = kmeans.labels_\n",
    "    #number of clusters\n",
    "    m = kmeans.n_clusters\n",
    "    # size of the clusters\n",
    "    n = np.bincount(labels)\n",
    "    #size of data set\n",
    "    N, d = X.shape\n",
    "\n",
    "    #compute variance for all clusters beforehand\n",
    "    cl_var = (1.0 / (N - m) / d) * sum([sum(distance.cdist(X[np.where(labels == i)],\n",
    "                                        [centers[0][i]], 'euclidean')**2) for i in range(m)])\n",
    "    \n",
    "    const_term = 0.5 * m * np.log(N) * (d+1)\n",
    "\n",
    "    BIC = np.sum([n[i] * np.log(n[i]) -\n",
    "               n[i] * np.log(N) -\n",
    "             ((n[i] * d) / 2) * np.log(2*np.pi*cl_var) -\n",
    "             ((n[i] - 1) * d/ 2) for i in range(m)]) - const_term\n",
    "\n",
    "    return(BIC)"
   ]
  },
  {
   "cell_type": "code",
   "execution_count": 22,
   "metadata": {
    "collapsed": false
   },
   "outputs": [
    {
     "name": "stdout",
     "output_type": "stream",
     "text": [
      "351.763685621\n",
      "[False False False False False False False  True False False False False\n",
      " False False False False False False False]\n"
     ]
    },
    {
     "data": {
      "image/png": "[encoded data removed]",
      "text/plain": [
       "<matplotlib.figure.Figure at 0x1262d38d0>"
      ]
     },
     "metadata": {},
     "output_type": "display_data"
    }
   ],
   "source": [
    "from sklearn import cluster\n",
    "from scipy.spatial import distance\n",
    "import sklearn.datasets\n",
    "from sklearn.preprocessing import StandardScaler\n",
    "\n",
    "# IRIS DATA\n",
    "iris = sklearn.datasets.load_iris()\n",
    "X = iris.data[:, :4]  # extract only the features\n",
    "#Xs = StandardScaler().fit_transform(X)\n",
    "Y = iris.target\n",
    "\n",
    "ks = range(1,20)\n",
    "\n",
    "# run 9 times kmeans and save each result in the KMeans object\n",
    "KMeans = [cluster.KMeans(n_clusters = i, init=\"k-means++\").fit(X) for i in ks]\n",
    "\n",
    "# now run for each cluster the BIC computation\n",
    "BIC = [-compute_bic(kmeansi,X) for kmeansi in KMeans]\n",
    "\n",
    "plt.plot(ks,BIC,'r-o')\n",
    "plt.title(\"iris data  (cluster vs BIC)\")\n",
    "plt.xlabel(\"# clusters\")\n",
    "plt.ylabel(\"# BIC\")\n",
    "\n",
    "print min(BIC)\n",
    "print BIC==min(BIC)"
   ]
  },
  {
   "cell_type": "code",
   "execution_count": 33,
   "metadata": {
    "collapsed": false,
    "scrolled": true
   },
   "outputs": [],
   "source": [
    "# #### Rejects if dependent data\n",
    "# r('''\n",
    "# kmeans <- function(data, num_centers) {\n",
    "#     kdata <- kmeans(data, centers=num_centers)\n",
    "# }\n",
    "\n",
    "# kmeans_aic <- function(fit){\n",
    "\n",
    "# m = ncol(fit$centers)\n",
    "# n = length(fit$cluster)\n",
    "# k = nrow(fit$centers)\n",
    "# D = fit$tot.withinss\n",
    "# return(D + 2*m*k)\n",
    "# }\n",
    "# ''')\n",
    "\n",
    "# k_means = r['kmeans']\n",
    "# kmeansAIC = r['kmeans_aic']\n",
    "\n",
    "\n",
    "# # IRIS DATA\n",
    "# iris = sklearn.datasets.load_iris()\n",
    "# X = iris.data[:, :4]  # extract only the features\n",
    "# #Xs = StandardScaler().fit_transform(X)\n",
    "# Y = iris.target\n",
    "\n",
    "# X = robjects.Array(X)\n",
    "# Y = robjects.FloatVector(X)\n",
    "\n",
    "# ks = range(1,20)\n",
    "\n",
    "# for i in ks:\n",
    "#     fits = k_means(X, i)\n",
    "#     aic = kmeansAIC(fits)\n",
    "    \n",
    "#     print fits\n",
    "#     print aic\n",
    "#     break"
   ]
  },
  {
   "cell_type": "code",
   "execution_count": 42,
   "metadata": {
    "collapsed": false
   },
   "outputs": [
    {
     "name": "stdout",
     "output_type": "stream",
     "text": [
      "5978193.87715\n",
      "[False False False False False False False False False False False False\n",
      " False False False False False False False False False False False False\n",
      " False False False False False False False  True False False False False\n",
      " False False False]\n"
     ]
    },
    {
     "data": {
      "image/png": "[encoded data removed]",
      "text/plain": [
       "<matplotlib.figure.Figure at 0x124cbaf10>"
      ]
     },
     "metadata": {},
     "output_type": "display_data"
    }
   ],
   "source": [
    "# Log-transformed data\n",
    "data = np.load('../data/synapse_f0_features_log.npy')\n",
    "X = data  # extract only the features\n",
    "\n",
    "ks = range(1,40)\n",
    "\n",
    "# run 9 times kmeans and save each result in the KMeans object\n",
    "KMeans = [cluster.MiniBatchKMeans(n_clusters = i, init=\"k-means++\").fit(X) for i in ks]\n",
    "\n",
    "# now run for each cluster the BIC computation\n",
    "BIC = [-compute_bic(kmeansi,X) for kmeansi in KMeans]\n",
    "\n",
    "plt.plot(ks,BIC,'r-o')\n",
    "plt.title(\"synapse f0 data  (cluster vs BIC)\")\n",
    "plt.xlabel(\"# clusters\")\n",
    "plt.ylabel(\"# BIC\")\n",
    "\n",
    "print min(BIC)\n",
    "print BIC==min(BIC)"
   ]
  },
  {
   "cell_type": "code",
   "execution_count": 43,
   "metadata": {
    "collapsed": false
   },
   "outputs": [
    {
     "name": "stdout",
     "output_type": "stream",
     "text": [
      "(1119299, 24)\n",
      "16\n",
      "['Synap_01', 'Synap_02', 'VGlut1_01', 'VGlut1_02', 'VGlut2', 'Vglut3', 'psd', 'glur2', 'nmdar1', 'nr2b', 'gad', 'VGAT', 'PV', 'Gephyr', 'GABAR1', 'GABABR']\n"
     ]
    }
   ],
   "source": [
    "print data.shape\n",
    "\n",
    "channel_inhib_excit = ['ex.pre','ex.pre','ex.pre','ex.pre','ex.pre','in.pre.small', \n",
    "               'ex.post','ex.post','ex.post','ex.post','in.pre','in.pre', \n",
    "               'in.pre','in.post','in.post','in.post']\n",
    "print len(channel_inhib_excit)\n",
    "print channel[0:len(channel_inhib_excit)]"
   ]
  },
  {
   "cell_type": "code",
   "execution_count": null,
   "metadata": {
    "collapsed": true
   },
   "outputs": [],
   "source": [
    "# random scatter plot of synap vs synap and vglut1 and vglut1\n",
    "# is it on linear line?\n",
    "# -> can we average the values together? since they're measured in different time"
   ]
  }
 ],
 "metadata": {
  "kernelspec": {
   "display_name": "Python 2",
   "language": "python",
   "name": "python2"
  },
  "language_info": {
   "codemirror_mode": {
    "name": "ipython",
    "version": 2
   },
   "file_extension": ".py",
   "mimetype": "text/x-python",
   "name": "python",
   "nbconvert_exporter": "python",
   "pygments_lexer": "ipython2",
   "version": "2.7.11"
  }
 },
 "nbformat": 4,
 "nbformat_minor": 0
}
