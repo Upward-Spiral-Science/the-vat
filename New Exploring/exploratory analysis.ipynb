{
 "cells": [
  {
   "cell_type": "markdown",
   "metadata": {},
   "source": [
    "# Exploratory Analysis v2\n",
    "\n",
    "To Do Items: https://github.com/Upward-Spiral-Science/the-vat/blob/master/Draft/to-do.md\n",
    "\n",
    "For a certain channel that has repeated measurements, plot a downsampled scatter plot... Should be linear?"
   ]
  },
  {
   "cell_type": "code",
   "execution_count": 67,
   "metadata": {
    "collapsed": true
   },
   "outputs": [],
   "source": [
    "# Import Necessary Libraries\n",
    "import numpy as np\n",
    "import os, csv, json\n",
    "\n",
    "from matplotlib import *\n",
    "from matplotlib import pyplot as plt\n",
    "\n",
    "from mpl_toolkits.mplot3d import Axes3D\n",
    "from scipy import stats\n",
    "from scipy.cluster.hierarchy import dendrogram, linkage\n",
    "from sklearn.neighbors import KernelDensity\n",
    "\n",
    "from sklearn import cluster\n",
    "from scipy.spatial import distance\n",
    "import sklearn.datasets\n",
    "from sklearn.preprocessing import StandardScaler\n",
    "\n",
    "\n",
    "#### Set up R Independence Test \n",
    "np.random.seed(12345678)  # for reproducibility, set random seed\n",
    "from rpy2 import robjects\n",
    "from rpy2.robjects import r\n",
    "\n",
    "# pretty charting\n",
    "import seaborn as sns\n",
    "sns.set_palette('muted')\n",
    "sns.set_style('darkgrid')\n",
    "\n",
    "%matplotlib inline"
   ]
  },
  {
   "cell_type": "markdown",
   "metadata": {},
   "source": [
    "# Channels\n",
    "Here is the cell describing each channel column for each measurement metric. "
   ]
  },
  {
   "cell_type": "code",
   "execution_count": 2,
   "metadata": {
    "collapsed": false
   },
   "outputs": [
    {
     "name": "stdout",
     "output_type": "stream",
     "text": [
      "['Synap_01', 'Synap_02', 'VGlut1_01', 'VGlut1_02', 'VGlut2', 'Vglut3', 'psd', 'glur2', 'nmdar1', 'nr2b', 'gad', 'VGAT', 'PV', 'Gephyr', 'GABAR1', 'GABABR', 'CR1', '5HT1A', 'NOS', 'TH', 'VACht', 'Synapo', 'tubuli', 'DAPI']\n",
      "['ex.pre', 'ex.pre', 'ex.pre', 'ex.pre', 'ex.pre', 'in.pre.small', 'ex.post', 'ex.post', 'ex.post', 'ex.post', 'in.pre', 'in.pre', 'in.pre', 'in.post', 'in.post', 'in.post', 'in.pre.small', 'other', 'ex.post', 'other', 'other', 'ex.post', 'none', 'none']\n"
     ]
    }
   ],
   "source": [
    "from pprint import pprint\n",
    "# channel = ['Synap','Synap','VGlut1','VGlut1','VGlut2','Vglut3',\n",
    "#            'psd','glur2','nmdar1','nr2b','gad','VGAT', 'PV','Gephyr',\n",
    "#            'GABAR1','GABABR','CR1','5HT1A', 'NOS','TH','VACht',\n",
    "#            'Synapo','tubuli','DAPI']\n",
    "\n",
    "channel = ['Synap_01','Synap_02','VGlut1_01','VGlut1_02','VGlut2','Vglut3',\n",
    "           'psd','glur2','nmdar1','nr2b','gad','VGAT', 'PV','Gephyr',\n",
    "           'GABAR1','GABABR','CR1','5HT1A', 'NOS','TH','VACht',\n",
    "           'Synapo','tubuli','DAPI']\n",
    "\n",
    "channeltype = ['ex.pre','ex.pre','ex.pre','ex.pre','ex.pre','in.pre.small', \n",
    "               'ex.post','ex.post','ex.post','ex.post','in.pre','in.pre', \n",
    "               'in.pre','in.post','in.post','in.post','in.pre.small','other',\n",
    "               'ex.post','other','other','ex.post','none','none']\n",
    "print(channel)\n",
    "print(channeltype)"
   ]
  },
  {
   "cell_type": "code",
   "execution_count": 11,
   "metadata": {
    "collapsed": false
   },
   "outputs": [],
   "source": [
    "#### RUN AT BEGINNING AND TRY NOT TO RUN AGAIN - TAKES WAY TOO LONG ####\n",
    "# load in the feature data\n",
    "list_of_features = []\n",
    "with open('../data/original data/synapsinR_7thA.tif.Pivots.txt.2011Features.txt') as file:\n",
    "    for line in file:\n",
    "        inner_list = [float(elt.strip()) for elt in line.split(',')]\n",
    "        \n",
    "        # create list of features\n",
    "        list_of_features.append(inner_list)\n",
    "\n",
    "# conver to a numpy matrix\n",
    "list_of_features = np.array(list_of_features)"
   ]
  },
  {
   "cell_type": "code",
   "execution_count": 4,
   "metadata": {
    "collapsed": false
   },
   "outputs": [
    {
     "name": "stdout",
     "output_type": "stream",
     "text": [
      "(1119299, 144)\n"
     ]
    }
   ],
   "source": [
    "# SAVE ENTIRE TRANSFORMED DATA \n",
    "def normalize(X):\n",
    "    mn = np.min(X, axis=0)\n",
    "    mx = np.max(X, axis=0)\n",
    "    rn = mx - mn\n",
    "    X = np.array([(r - mn)/rn for r in X])\n",
    "    return X\n",
    "\n",
    "def log_transform(X, norm=False):\n",
    "    X = np.log(normalize(X) + 1) if norm else np.log(X + 1)\n",
    "    return X\n",
    "\n",
    "def sqrt_transform(X, norm=False):\n",
    "    X = np.sqrt(normalize(X)) if norm else np.sqrt(X)\n",
    "    return X\n",
    "\n",
    "X = list_of_features\n",
    "Xlog = log_transform(X)\n",
    "Xsq = sqrt_transform(X)\n",
    "np.save('../data/synapse_features_log.npy',Xlog)\n",
    "np.save('../data/synapse_features_sqrt.npy',Xsq)\n",
    "Xlog = log_transform(X, norm=True)\n",
    "Xsq = sqrt_transform(X, norm=True)\n",
    "np.save('../data/synapse_features_log_normalized.npy',Xlog)\n",
    "np.save('../data/synapse_features_sqrt_normalized.npy',Xsq)"
   ]
  },
  {
   "cell_type": "code",
   "execution_count": 6,
   "metadata": {
    "collapsed": false
   },
   "outputs": [],
   "source": [
    "# SAVE ONLY F0 TRANSFORMED DATA\n",
    "X_f0 = list_of_features[:,0:24]\n",
    "X = X_f0\n",
    "Xlog = log_transform(X)\n",
    "Xsq = sqrt_transform(X)\n",
    "np.save('../data/synapse_f0_features_log.npy',Xlog)\n",
    "np.save('../data/synapse_f0_features_sqrt.npy',Xsq)\n",
    "Xlog = log_transform(X, norm=True)\n",
    "Xsq = sqrt_transform(X, norm=True)\n",
    "np.save('../data/synapse_f0_features_log_normalized.npy',Xlog)\n",
    "np.save('../data/synapse_f0_features_sqrt_normalized.npy',Xsq)"
   ]
  },
  {
   "cell_type": "code",
   "execution_count": 13,
   "metadata": {
    "collapsed": false
   },
   "outputs": [],
   "source": [
    "X_f0 = list_of_features[:,0:24]\n",
    "X = X_f0\n",
    "np.save('../data/synapse_f0_features.npy',X)"
   ]
  },
  {
   "cell_type": "markdown",
   "metadata": {},
   "source": [
    "## Data Check\n",
    "For data points where they were gathered twice, e.g. synap, and vglut1, should a random scatter plot lay on a line? It should be a simple linear transformation"
   ]
  },
  {
   "cell_type": "code",
   "execution_count": 66,
   "metadata": {
    "collapsed": false
   },
   "outputs": [
    {
     "name": "stdout",
     "output_type": "stream",
     "text": [
      "(10000, 24) \n",
      "\n",
      "\n"
     ]
    },
    {
     "data": {
      "image/png": "[encoded data removed]",
      "text/plain": [
       "<matplotlib.figure.Figure at 0x126c121d0>"
      ]
     },
     "metadata": {},
     "output_type": "display_data"
    },
    {
     "data": {
      "image/png": "[encoded data removed]",
      "text/plain": [
       "<matplotlib.figure.Figure at 0x138b27410>"
      ]
     },
     "metadata": {},
     "output_type": "display_data"
    }
   ],
   "source": [
    "## LOAD IN THE DATA\n",
    "# Log-transformed data\n",
    "data = np.load('../data/synapse_f0_features_log.npy')\n",
    "X = data  # extract only the features\n",
    "\n",
    "############ DATA CHECKING ##################\n",
    "# random scatter plot of synap vs synap and vglut1 and vglut1\n",
    "# is it on linear line?\n",
    "# -> can we average the values together? since they're measured in different time\n",
    "\n",
    "## Downsample our data\n",
    "X = data[np.random.choice(range(data.shape[0]), size=10000, replace=False), :]\n",
    "print X.shape, '\\n\\n'\n",
    "\n",
    "## Generate two linear fits\n",
    "fit_synap = np.polyfit(X[:,0], X[:,1], 1)\n",
    "fit_fn_synap = np.poly1d(fit_synap)\n",
    "fit_vglut = np.polyfit(X[:,2], X[:,3], 1)\n",
    "fit_fn_vglut = np.poly1d(fit_vglut)\n",
    "\n",
    "slope, intercept, synap_r_value, p_value, std_err = stats.linregress(X[:,0], X[:,1])\n",
    "slope, intercept, vglut_r_value, p_value, std_err = stats.linregress(X[:,2], X[:,3])\n",
    "\n",
    "## Plot onto line the Synap01 and Synap02 and Vglut01 and Vglut02 [0 vs 1] and [2 vs 3]\n",
    "fig = plt.figure(figsize=(6, 4.5))\n",
    "ax = plt.gca()\n",
    "ax.grid(False)\n",
    "plt.scatter(X[:,0], X[:,1], marker='o', color='k', label='data (n=%i)' %(len(X)))\n",
    "plt.plot(X[:,0], fit_fn_synap(X[:,0]), '--x', label='line-regression (r=%0.2f)' %(synap_r_value))\n",
    "plt.xlabel('Synap (first measurement)')\n",
    "plt.ylabel('Synap (second measurement)')\n",
    "plt.title('Synap Integrated Brightness - Comparison of Two Measurements')\n",
    "plt.yticks(np.arange(11, 16, 2), np.arange(11, 16, 2))\n",
    "plt.xticks(np.arange(10, 14.5, 1), np.arange(10, 14.5, 1))\n",
    "plt.legend(loc='upper left')\n",
    "plt.tight_layout()\n",
    "\n",
    "fig = plt.figure(figsize=(6, 4.5))\n",
    "ax = plt.gca()\n",
    "ax.grid(False)\n",
    "plt.scatter(X[:,2], X[:,3], marker='o', color='k', label='data (n=%i)' %(len(X)))\n",
    "plt.plot(X[:,2], fit_fn_vglut(X[:,2]), '--x', label='line-regression (r=%0.2f)' %(vglut_r_value))\n",
    "plt.xlabel('VGlut1 (first measurement)')\n",
    "plt.ylabel('VGlut1 (second measurement)')\n",
    "plt.title('VGlut1 Integrated Brightness - Comparison of Two Measurements')\n",
    "plt.yticks(np.arange(1.6, 2.9, 0.2), np.arange(1.6, 2.9, 0.2))\n",
    "plt.xticks(np.arange(0.9, 1.6, 0.1), np.arange(0.9, 1.6, 0.1))\n",
    "plt.legend(loc='best')\n",
    "plt.tight_layout()"
   ]
  },
  {
   "cell_type": "markdown",
   "metadata": {},
   "source": [
    "# Discussion On Data Checking\n",
    "Looks linear to me...."
   ]
  },
  {
   "cell_type": "markdown",
   "metadata": {},
   "source": [
    "Data we have now:\n",
    "1. Log-transformed data\n",
    "2. Log-normalized data\n",
    "3. Squareroot-transformed data\n",
    "4. Squareroot-normalized data\n",
    "\n",
    "\n",
    "## LOAD F0 DATA FOR LOG TRANSFORMED\n",
    "Load in log-transformed data and start running analysis\n",
    "\n",
    "1. BIC of k-means with only excitatory and inhibitory synapses\n",
    "2. Then remove bottom 25, 50, 75 % of synapsin values to downsample and try k-means again\n",
    "3. kernel density estimates (tyler getting it)\n",
    "4. try outlier detection"
   ]
  },
  {
   "cell_type": "code",
   "execution_count": 3,
   "metadata": {
    "collapsed": true
   },
   "outputs": [],
   "source": [
    "# http://stats.stackexchange.com/questions/90769/using-bic-to-estimate-the-number-of-k-in-kmeans\n",
    "# definition for computing BIC\n",
    "def compute_bic(kmeans,X):\n",
    "    \"\"\"\n",
    "    Computes the BIC metric for a given clusters\n",
    "\n",
    "    Parameters:\n",
    "    -----------------------------------------\n",
    "    kmeans:  List of clustering object from scikit learn\n",
    "\n",
    "    X     :  multidimension np array of data points\n",
    "\n",
    "    Returns:\n",
    "    -----------------------------------------\n",
    "    BIC value\n",
    "    \"\"\"\n",
    "    # assign centers and labels\n",
    "    centers = [kmeans.cluster_centers_]\n",
    "    labels  = kmeans.labels_\n",
    "    #number of clusters\n",
    "    m = kmeans.n_clusters\n",
    "    # size of the clusters\n",
    "    n = np.bincount(labels)\n",
    "    #size of data set\n",
    "    N, d = X.shape\n",
    "\n",
    "    #compute variance for all clusters beforehand\n",
    "    cl_var = (1.0 / (N - m) / d) * sum([sum(distance.cdist(X[np.where(labels == i)],\n",
    "                                        [centers[0][i]], 'euclidean')**2) for i in range(m)])\n",
    "    \n",
    "    const_term = 0.5 * m * np.log(N) * (d+1)\n",
    "\n",
    "    BIC = np.sum([n[i] * np.log(n[i]) -\n",
    "               n[i] * np.log(N) -\n",
    "             ((n[i] * d) / 2) * np.log(2*np.pi*cl_var) -\n",
    "             ((n[i] - 1) * d/ 2) for i in range(m)]) - const_term\n",
    "\n",
    "    return(BIC)"
   ]
  },
  {
   "cell_type": "code",
   "execution_count": 22,
   "metadata": {
    "collapsed": false
   },
   "outputs": [
    {
     "name": "stdout",
     "output_type": "stream",
     "text": [
      "351.763685621\n",
      "[False False False False False False False  True False False False False\n",
      " False False False False False False False]\n"
     ]
    },
    {
     "data": {
      "image/png": "[encoded data removed]",
      "text/plain": [
       "<matplotlib.figure.Figure at 0x1262d38d0>"
      ]
     },
     "metadata": {},
     "output_type": "display_data"
    }
   ],
   "source": [
    "# IRIS DATA\n",
    "iris = sklearn.datasets.load_iris()\n",
    "X = iris.data[:, :4]  # extract only the features\n",
    "#Xs = StandardScaler().fit_transform(X)\n",
    "Y = iris.target\n",
    "\n",
    "ks = range(1,20)\n",
    "\n",
    "# run 9 times kmeans and save each result in the KMeans object\n",
    "KMeans = [cluster.KMeans(n_clusters = i, init=\"k-means++\").fit(X) for i in ks]\n",
    "\n",
    "# now run for each cluster the BIC computation\n",
    "BIC = [-compute_bic(kmeansi,X) for kmeansi in KMeans]\n",
    "\n",
    "plt.plot(ks,BIC,'r-o')\n",
    "plt.title(\"iris data  (cluster vs BIC)\")\n",
    "plt.xlabel(\"# clusters\")\n",
    "plt.ylabel(\"# BIC\")\n",
    "\n",
    "print min(BIC)\n",
    "print BIC==min(BIC)"
   ]
  },
  {
   "cell_type": "code",
   "execution_count": 16,
   "metadata": {
    "collapsed": true
   },
   "outputs": [],
   "source": [
    "## LOAD IN THE DATA\n",
    "# Log-transformed data\n",
    "data = np.load('../data/synapse_f0_features_log.npy')\n",
    "X = data  # extract only the features"
   ]
  },
  {
   "cell_type": "code",
   "execution_count": 8,
   "metadata": {
    "collapsed": false
   },
   "outputs": [],
   "source": [
    "ks = range(1,40)\n",
    "\n",
    "# run 9 times kmeans and save each result in the KMeans object\n",
    "KMeans = [cluster.MiniBatchKMeans(n_clusters = i, init=\"k-means++\").fit(X) for i in ks]\n",
    "\n",
    "# now run for each cluster the BIC computation\n",
    "BIC = [-compute_bic(kmeansi,X) for kmeansi in KMeans]\n",
    "\n",
    "plt.plot(ks,BIC,'r-o')\n",
    "plt.title(\"synapse f0 data  (cluster vs BIC)\")\n",
    "plt.xlabel(\"# clusters\")\n",
    "plt.ylabel(\"# BIC\")\n",
    "\n",
    "print min(BIC)\n",
    "print BIC==min(BIC)"
   ]
  },
  {
   "cell_type": "code",
   "execution_count": 9,
   "metadata": {
    "collapsed": false
   },
   "outputs": [
    {
     "name": "stdout",
     "output_type": "stream",
     "text": [
      "(1119299, 24)\n",
      "16\n",
      "['Synap_01', 'Synap_02', 'VGlut1_01', 'VGlut1_02', 'VGlut2', 'Vglut3', 'psd', 'glur2', 'nmdar1', 'nr2b', 'gad', 'VGAT', 'PV', 'Gephyr', 'GABAR1', 'GABABR']\n"
     ]
    }
   ],
   "source": [
    "print data.shape\n",
    "\n",
    "channel_inhib_excit = ['ex.pre','ex.pre','ex.pre','ex.pre','ex.pre','in.pre.small', \n",
    "               'ex.post','ex.post','ex.post','ex.post','in.pre','in.pre', \n",
    "               'in.pre','in.post','in.post','in.post']\n",
    "print len(channel_inhib_excit)\n",
    "print channel[0:len(channel_inhib_excit)]"
   ]
  },
  {
   "cell_type": "code",
   "execution_count": null,
   "metadata": {
    "collapsed": true
   },
   "outputs": [],
   "source": []
  }
 ],
 "metadata": {
  "kernelspec": {
   "display_name": "Python 2",
   "language": "python",
   "name": "python2"
  },
  "language_info": {
   "codemirror_mode": {
    "name": "ipython",
    "version": 2
   },
   "file_extension": ".py",
   "mimetype": "text/x-python",
   "name": "python",
   "nbconvert_exporter": "python",
   "pygments_lexer": "ipython2",
   "version": "2.7.11"
  }
 },
 "nbformat": 4,
 "nbformat_minor": 0
}
