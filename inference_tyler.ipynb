{
 "cells": [
  {
   "cell_type": "markdown",
   "metadata": {},
   "source": [
    "# Hypothesis testing for number of mixture components\n",
    "http://scikit-learn.org/stable/auto_examples/mixture/plot_gmm_selection.html#example-mixture-plot-gmm-selection-py"
   ]
  },
  {
   "cell_type": "code",
   "execution_count": 1,
   "metadata": {
    "collapsed": false
   },
   "outputs": [],
   "source": [
    "import itertools\n",
    "import csv\n",
    "import numpy as np\n",
    "from scipy import linalg\n",
    "from scipy.stats import cumfreq\n",
    "import matplotlib.pyplot as plt\n",
    "import matplotlib as mpl\n",
    "from sklearn import mixture\n",
    "%matplotlib inline\n",
    "np.random.seed(1)"
   ]
  },
  {
   "cell_type": "markdown",
   "metadata": {},
   "source": [
    "## Load data, downsample, and keep only first 96 features"
   ]
  },
  {
   "cell_type": "code",
   "execution_count": 2,
   "metadata": {
    "collapsed": false
   },
   "outputs": [
    {
     "name": "stdout",
     "output_type": "stream",
     "text": [
      "data loaded\n"
     ]
    }
   ],
   "source": [
    "with open('/Users/Tyler/Google Drive/DataScience/synapse_features_z-score.csv','r') as csvfile:\n",
    "    reader = csv.reader(csvfile)\n",
    "    X = np.array([[float(e) for e in r] for r in reader])\n",
    "\n",
    "\n",
    "# Keep only first 96 features\n",
    "X = X[np.random.choice(range(X.shape[0]),size=100000,replace=False),0:24*4]\n",
    "#X = X[:,0:24*4]\n",
    "print 'data loaded'"
   ]
  },
  {
   "cell_type": "markdown",
   "metadata": {},
   "source": [
    "## Perform model selection using BIC to find the most likely number of mixture components $\\hat{k}$"
   ]
  },
  {
   "cell_type": "code",
   "execution_count": 3,
   "metadata": {
    "collapsed": false
   },
   "outputs": [
    {
     "data": {
      "image/png": "[encoded data removed]",
      "text/plain": [
       "<matplotlib.figure.Figure at 0x10fc0d990>"
      ]
     },
     "metadata": {},
     "output_type": "display_data"
    }
   ],
   "source": [
    "lowest_bic = np.infty\n",
    "bic = []\n",
    "n_components_range = range(1, 21)\n",
    "cv_types = ['spherical', 'tied', 'diag', 'full']\n",
    "for cv_type in cv_types:\n",
    "    for n_components in n_components_range:\n",
    "        # Fit a mixture of Gaussians with EM\n",
    "        gmm = mixture.GMM(n_components=n_components, covariance_type=cv_type)\n",
    "        gmm.fit(X)\n",
    "        bic.append(gmm.bic(X))\n",
    "        if bic[-1] < lowest_bic:\n",
    "            lowest_bic = bic[-1]\n",
    "            best_gmm = gmm\n",
    "\n",
    "bic = np.array(bic)\n",
    "color_iter = itertools.cycle(['k', 'r', 'g', 'b', 'c', 'm', 'y'])\n",
    "clf = best_gmm\n",
    "bars = []\n",
    "\n",
    "# Plot the BIC scores\n",
    "spl = plt.subplot(1, 1, 1)\n",
    "for i, (cv_type, color) in enumerate(zip(cv_types, color_iter)):\n",
    "    xpos = np.array(n_components_range) + .2 * (i - 2)\n",
    "    bars.append(plt.bar(xpos, bic[i * len(n_components_range):\n",
    "                                  (i + 1) * len(n_components_range)],\n",
    "                        width=.2, color=color))\n",
    "plt.xticks(n_components_range)\n",
    "plt.ylim([bic.min() * 1.01 - .01 * bic.max(), bic.max()])\n",
    "plt.title('BIC score per model')\n",
    "xpos = np.mod(bic.argmin(), len(n_components_range)) + .65 +\\\n",
    "    .2 * np.floor(bic.argmin() / len(n_components_range))\n",
    "plt.text(xpos, bic.min() * 0.97 + .03 * bic.max(), '*', fontsize=14)\n",
    "spl.set_xlabel('Number of components')\n",
    "spl.legend([b[0] for b in bars], cv_types)\n",
    "plt.show()"
   ]
  },
  {
   "cell_type": "markdown",
   "metadata": {},
   "source": [
    "## Statistical inference\n",
    "\n",
    "### Step 1: Define model and assumptions\n",
    "\n",
    "$\\vec{X} ~ f_{\\vec{X}} \\in {F_{\\vec{X}}(\\cdot;\\theta): \\theta \\in \\Theta}$\n",
    "\n",
    "We assume $f$ is a GMM and $\\theta = [\\bf{\\mu}, \\bf{\\Sigma}, \\vec{\\pi}, k]$, where k is the number of mixture components and $\\vec{\\pi}$ are the mixing weights of each mixture component.\n",
    "\n",
    "### Step 2: Formalize test\n",
    "\n",
    "$H_0: k = k_0$\n",
    "\n",
    "$H_1: k = k_1$\n",
    "\n",
    "### Step 3: Describe the test statistic\n",
    "\n",
    "$\\Lambda = \\frac{L(\\theta_1;X)}{L(\\theta_0;X)}$"
   ]
  },
  {
   "cell_type": "code",
   "execution_count": 5,
   "metadata": {
    "collapsed": true
   },
   "outputs": [],
   "source": [
    "# hypothesis testing for testing:\n",
    "# k0 # of mixture components vs k1 # mixture components\n",
    "def gmm_test(X,k0,k1,nboot):\n",
    "    nsample = X.shape[0]\n",
    "\n",
    "    gmm0 = mixture.GMM(n_components=k0, covariance_type='full')\n",
    "    gmm0.fit(X)\n",
    "    L0 = sum(gmm0.score(X))\n",
    "    gmm1 = mixture.GMM(n_components=k1, covariance_type='full')\n",
    "    gmm1.fit(X)\n",
    "    L1 = sum(gmm1.score(X))\n",
    "    LRstat = -2*(L1 - L0)\n",
    "\n",
    "    LRstat0 = []\n",
    "\n",
    "    for i in range(nboot):\n",
    "        Xboot = gmm0.sample(n_samples=nsample)\n",
    "        gmm0_boot = mixture.GMM(n_components=k0, covariance_type = 'full')\n",
    "        gmm0_boot.fit(Xboot)\n",
    "        L0_boot = sum(gmm0_boot.score(Xboot))\n",
    "        gmm1_boot = mixture.GMM(n_components=k1, covariance_type = 'full')\n",
    "        gmm1_boot.fit(Xboot)\n",
    "        L1_boot = sum(gmm1_boot.score(Xboot))\n",
    "        LRstat0.append(-2*(L1_boot - L0_boot))\n",
    "\n",
    "    ecdf, lowlim, binsize, extrapoints = cumfreq(LRstat0)\n",
    "    ecdf = ecdf/len(LRstat0)\n",
    "\n",
    "    bin = np.mean([lowlim,lowlim+binsize])\n",
    "    bins = []\n",
    "\n",
    "    for i in range(len(ecdf)):\n",
    "        bins.append(bin)\n",
    "        bin = bin + binsize\n",
    "    \n",
    "    if min(bins) > LRstat:\n",
    "        p = 0\n",
    "    else:\n",
    "        p = max(ecdf[bins<=LRstat])\n",
    "\n",
    "    return p"
   ]
  },
  {
   "cell_type": "markdown",
   "metadata": {},
   "source": [
    "### Step 4a: Sample from the null"
   ]
  },
  {
   "cell_type": "code",
   "execution_count": 6,
   "metadata": {
    "collapsed": false
   },
   "outputs": [
    {
     "name": "stdout",
     "output_type": "stream",
     "text": [
      "finished sampling from null\n"
     ]
    }
   ],
   "source": [
    "alpha = 0.05\n",
    "\n",
    "k0 = 1\n",
    "k1 = 3\n",
    "nboot = 100\n",
    "n_samples = np.array(range(1,101,5))*10\n",
    "n_iterations = 100\n",
    "\n",
    "pow_null = np.array((), dtype=np.dtype('float64'))\n",
    "\n",
    "gmm0 = mixture.GMM(n_components=k0, covariance_type='full')\n",
    "gmm0.means_ = np.array([[0]])\n",
    "gmm0.covars_ = np.array([[[1]]])\n",
    "gmm0.weights_ = np.array([1])\n",
    "for n in n_samples:\n",
    "    p = np.array((), dtype=np.dtype('float64'))\n",
    "    \n",
    "    for i in range(n_iterations):\n",
    "        X0 = gmm0.sample(n)\n",
    "        p = np.append(p,gmm_test(X0,k0,k1,nboot))\n",
    "        \n",
    "    pow_null = np.append(pow_null, np.sum(1.0*(p < alpha))/n_iterations)\n",
    "    \n",
    "print 'finished sampling from null'"
   ]
  },
  {
   "cell_type": "markdown",
   "metadata": {},
   "source": [
    "### Step 4b: Sample from the alternative"
   ]
  },
  {
   "cell_type": "code",
   "execution_count": 9,
   "metadata": {
    "collapsed": false
   },
   "outputs": [
    {
     "name": "stdout",
     "output_type": "stream",
     "text": [
      "finished sampling from alternative\n"
     ]
    }
   ],
   "source": [
    "pow_alt = np.array((), dtype=np.dtype('float64'))\n",
    "\n",
    "gmm1 = mixture.GMM(n_components=k1, covariance_type='full')\n",
    "gmm1.means_ = np.array([[-2],[0],[2]])\n",
    "gmm1.covars_ = np.array([[[1]],[[1]],[[1]]])\n",
    "gmm1.weights_ = np.array([.4, .2, .4])\n",
    "\n",
    "for n in n_samples:\n",
    "    p = np.array((), dtype=np.dtype('float64'))\n",
    "    \n",
    "    for i in range(n_iterations):\n",
    "        X1 = gmm1.sample(n)\n",
    "        p = np.append(p,gmm_test(X1,k0,k1,nboot))\n",
    "        \n",
    "    pow_alt = np.append(pow_alt, np.sum(1.0*(p < alpha))/n_iterations)\n",
    "    \n",
    "print 'finished sampling from alternative'"
   ]
  },
  {
   "cell_type": "markdown",
   "metadata": {},
   "source": [
    "### Step 5: Plot power vs n"
   ]
  },
  {
   "cell_type": "code",
   "execution_count": 10,
   "metadata": {
    "collapsed": false
   },
   "outputs": [
    {
     "data": {
      "image/png": "[encoded data removed]",
      "text/plain": [
       "<matplotlib.figure.Figure at 0x1088a6390>"
      ]
     },
     "metadata": {},
     "output_type": "display_data"
    }
   ],
   "source": [
    "plt.scatter(n_samples, pow_null, hold=True, label='null')\n",
    "plt.scatter(n_samples, pow_alt, color='green', hold=True, label='alt')\n",
    "plt.xscale('log')\n",
    "plt.xlabel('number of samples')\n",
    "plt.ylabel('power')\n",
    "plt.title('Strength of gender classification under null model')\n",
    "plt.axhline(alpha, color='red', linestyle='--', label='alpha')\n",
    "plt.legend(loc=5)\n",
    "plt.show()"
   ]
  },
  {
   "cell_type": "markdown",
   "metadata": {},
   "source": [
    "### Step 6: Apply test to actual data"
   ]
  },
  {
   "cell_type": "code",
   "execution_count": 6,
   "metadata": {
    "collapsed": false
   },
   "outputs": [
    {
     "name": "stdout",
     "output_type": "stream",
     "text": [
      "0\n"
     ]
    }
   ],
   "source": [
    "k0 = 1\n",
    "k1 = 17\n",
    "nboot = 100\n",
    "\n",
    "p = gmm_test(X,k0,k1,nboot)\n",
    "\n",
    "print p"
   ]
  }
 ],
 "metadata": {
  "kernelspec": {
   "display_name": "Python 2",
   "language": "python",
   "name": "python2"
  },
  "language_info": {
   "codemirror_mode": {
    "name": "ipython",
    "version": 2
   },
   "file_extension": ".py",
   "mimetype": "text/x-python",
   "name": "python",
   "nbconvert_exporter": "python",
   "pygments_lexer": "ipython2",
   "version": "2.7.11"
  }
 },
 "nbformat": 4,
 "nbformat_minor": 0
}
