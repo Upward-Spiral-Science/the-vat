{
 "cells": [
  {
   "cell_type": "code",
   "execution_count": 1,
   "metadata": {
    "collapsed": true
   },
   "outputs": [],
   "source": [
    "# Import Necessary Libraries\n",
    "import numpy as np\n",
    "import os, csv, json\n",
    "\n",
    "from matplotlib import *\n",
    "from matplotlib import pyplot as plt\n",
    "\n",
    "from mpl_toolkits.mplot3d import Axes3D\n",
    "from scipy import stats\n",
    "from scipy.cluster.hierarchy import dendrogram, linkage\n",
    "from sklearn.neighbors import KernelDensity\n",
    "\n",
    "from sklearn import cluster\n",
    "from scipy.spatial import distance\n",
    "import sklearn.datasets\n",
    "from sklearn.preprocessing import StandardScaler\n",
    "\n",
    "import pandas as pd\n",
    "\n",
    "#### Set up R Independence Test \n",
    "np.random.seed(12345678)  # for reproducibility, set random seed\n",
    "from rpy2 import robjects\n",
    "from rpy2.robjects import r\n",
    "\n",
    "# pretty charting\n",
    "import seaborn as sns\n",
    "sns.set_palette('muted')\n",
    "sns.set_style('darkgrid')\n",
    "\n",
    "%matplotlib inline"
   ]
  },
  {
   "cell_type": "code",
   "execution_count": 2,
   "metadata": {
    "collapsed": false
   },
   "outputs": [
    {
     "name": "stdout",
     "output_type": "stream",
     "text": [
      "['Synap_01', 'Synap_02', 'VGlut1_01', 'VGlut1_02', 'VGlut2', 'Vglut3', 'psd', 'glur2', 'nmdar1', 'nr2b', 'gad', 'VGAT', 'PV', 'Gephyr', 'GABAR1', 'GABABR', 'CR1', '5HT1A', 'NOS', 'TH', 'VACht', 'Synapo', 'tubuli', 'DAPI']\n",
      "['ex.pre', 'ex.pre', 'ex.pre', 'ex.pre', 'ex.pre', 'in.pre.small', 'ex.post', 'ex.post', 'ex.post', 'ex.post', 'in.pre', 'in.pre', 'in.pre', 'in.post', 'in.post', 'in.post', 'in.pre.small', 'other', 'ex.post', 'other', 'other', 'ex.post', 'none', 'none']\n"
     ]
    }
   ],
   "source": [
    "from pprint import pprint\n",
    "# channel = ['Synap','Synap','VGlut1','VGlut1','VGlut2','Vglut3',\n",
    "#            'psd','glur2','nmdar1','nr2b','gad','VGAT', 'PV','Gephyr',\n",
    "#            'GABAR1','GABABR','CR1','5HT1A', 'NOS','TH','VACht',\n",
    "#            'Synapo','tubuli','DAPI']\n",
    "\n",
    "channel = ['Synap_01','Synap_02','VGlut1_01','VGlut1_02','VGlut2','Vglut3',\n",
    "           'psd','glur2','nmdar1','nr2b','gad','VGAT', 'PV','Gephyr',\n",
    "           'GABAR1','GABABR','CR1','5HT1A', 'NOS','TH','VACht',\n",
    "           'Synapo','tubuli','DAPI']\n",
    "\n",
    "channeltype = ['ex.pre','ex.pre','ex.pre','ex.pre','ex.pre','in.pre.small', \n",
    "               'ex.post','ex.post','ex.post','ex.post','in.pre','in.pre', \n",
    "               'in.pre','in.post','in.post','in.post','in.pre.small','other',\n",
    "               'ex.post','other','other','ex.post','none','none']\n",
    "print(channel)\n",
    "print(channeltype)"
   ]
  },
  {
   "cell_type": "code",
   "execution_count": 4,
   "metadata": {
    "collapsed": false
   },
   "outputs": [
    {
     "name": "stdout",
     "output_type": "stream",
     "text": [
      "The column numbers of inhib/excit proteins:  [0, 1, 2, 3, 4, 5, 6, 7, 8, 9, 10, 11, 12, 13, 14, 15, 16, 18, 21]\n"
     ]
    }
   ],
   "source": [
    "channel_inhib_excit = ['ex.pre','ex.pre','ex.pre','ex.pre','ex.pre','in.pre.small', \n",
    "               'ex.post','ex.post','ex.post','ex.post','in.pre','in.pre', \n",
    "               'in.pre','in.post','in.post','in.post']\n",
    "\n",
    "# get only the channels with known excitatory and inhibitory\n",
    "channeltype = np.array(channeltype)\n",
    "inhib_excit_indices = [idx for idx, x in enumerate(channeltype) if x in channel_inhib_excit]\n",
    "\n",
    "print \"The column numbers of inhib/excit proteins: \", inhib_excit_indices"
   ]
  },
  {
   "cell_type": "markdown",
   "metadata": {},
   "source": [
    "## Load in Data And Cluster And Evaluate\n",
    "1. load in data\n",
    "2. cluster using k-means 4, 5, 6\n",
    "3. compare the histogram distributions of excit/inhib values in each cluster"
   ]
  },
  {
   "cell_type": "code",
   "execution_count": 6,
   "metadata": {
    "collapsed": false
   },
   "outputs": [
    {
     "name": "stdout",
     "output_type": "stream",
     "text": [
      "data has shape:  (1119299, 19)\n"
     ]
    },
    {
     "ename": "NameError",
     "evalue": "name 'n_clusters' is not defined",
     "output_type": "error",
     "traceback": [
      "\u001b[0;31m---------------------------------------------------------------------------\u001b[0m",
      "\u001b[0;31mNameError\u001b[0m                                 Traceback (most recent call last)",
      "\u001b[0;32m<ipython-input-6-e28301a1272b>\u001b[0m in \u001b[0;36m<module>\u001b[0;34m()\u001b[0m\n\u001b[1;32m     16\u001b[0m \u001b[0mk_means_labels_unique\u001b[0m \u001b[0;34m=\u001b[0m \u001b[0mnp\u001b[0m\u001b[0;34m.\u001b[0m\u001b[0munique\u001b[0m\u001b[0;34m(\u001b[0m\u001b[0mk_means_labels\u001b[0m\u001b[0;34m)\u001b[0m\u001b[0;34m\u001b[0m\u001b[0m\n\u001b[1;32m     17\u001b[0m \u001b[0;34m\u001b[0m\u001b[0m\n\u001b[0;32m---> 18\u001b[0;31m \u001b[0;32mfor\u001b[0m \u001b[0mk\u001b[0m\u001b[0;34m,\u001b[0m \u001b[0mcol\u001b[0m \u001b[0;32min\u001b[0m \u001b[0mzip\u001b[0m\u001b[0;34m(\u001b[0m\u001b[0mrange\u001b[0m\u001b[0;34m(\u001b[0m\u001b[0mn_clusters\u001b[0m\u001b[0;34m)\u001b[0m\u001b[0;34m,\u001b[0m \u001b[0mcolors\u001b[0m\u001b[0;34m)\u001b[0m\u001b[0;34m:\u001b[0m\u001b[0;34m\u001b[0m\u001b[0m\n\u001b[0m\u001b[1;32m     19\u001b[0m     \u001b[0;32mprint\u001b[0m \u001b[0mk\u001b[0m\u001b[0;34m\u001b[0m\u001b[0m\n\u001b[1;32m     20\u001b[0m     \u001b[0;32mprint\u001b[0m \u001b[0mcol\u001b[0m\u001b[0;34m\u001b[0m\u001b[0m\n",
      "\u001b[0;31mNameError\u001b[0m: name 'n_clusters' is not defined"
     ]
    }
   ],
   "source": [
    "data = np.load('../../data/synapse_f0_features_log.npy')\n",
    "X = data  # extract only the features\n",
    "X = X[:,inhib_excit_indices]\n",
    "print 'data has shape: ', X.shape\n",
    "\n",
    "# set options and then cluster\n",
    "num_clusters = 4\n",
    "colors = ['#4EACC5', '#FF9C34', '#4E9A06', '#11111']\n",
    "kmeans = cluster.MiniBatchKMeans(n_clusters = num_clusters, init=\"k-means++\")\n",
    "kmeans.fit(X)\n",
    "\n",
    "\n",
    "# extract the data after fitting\n",
    "k_means_labels = kmeans.labels_\n",
    "k_means_cluster_centers = kmeans.cluster_centers_\n",
    "k_means_labels_unique = np.unique(k_means_labels)\n",
    "\n",
    "for k, col in zip(range(num_clusters), colors):\n",
    "    print k\n",
    "    print col\n",
    "##### PLOT #####\n",
    "fig = plt.figure()\n",
    "ax = plt.gca()\n",
    "ax.grid(False)\n",
    "# plt.scatter(X[:,2], X[:,3], marker='o', color='k', label='data (n=%i)' %(len(X)))\n",
    "# plt.plot(X[:,2], fit_fn_vglut(X[:,2]), '--x', label='line-regression (r=%0.2f)' %(vglut_r_value))\n",
    "\n",
    "ax.set_xlabel('VGlut1 (first measurement)')\n",
    "ax.set_ylabel('VGlut1 (second measurement)')\n",
    "ax.set_title('Integrated Brightness Clustering With ' + num_clusters + ' centers Using MiniBatchKMeans')\n",
    "ax.set_xticks(())\n",
    "ax.set_yticks(())\n",
    "plt.tight_layout()\n",
    "\n",
    "\n",
    "print \"For f0 features log transformed\""
   ]
  },
  {
   "cell_type": "code",
   "execution_count": 11,
   "metadata": {
    "collapsed": false
   },
   "outputs": [
    {
     "name": "stdout",
     "output_type": "stream",
     "text": [
      "(19,)\n",
      "(19,)\n",
      "(19,)\n",
      "(19,)\n",
      "For f0 features log transformed\n"
     ]
    },
    {
     "data": {
      "image/png": "[encoded data removed]",
      "text/plain": [
       "<matplotlib.figure.Figure at 0x127387490>"
      ]
     },
     "metadata": {},
     "output_type": "display_data"
    }
   ],
   "source": [
    "for k, col in zip(range(num_clusters), colors):\n",
    "    my_members = k_means_labels == k # get indices of this current cluster membership\n",
    "    cluster_center = k_means_cluster_centers[k] # get current cluster center\n",
    "\n",
    "    print cluster_center.shape\n",
    "\n",
    "##### PLOT #####\n",
    "fig = plt.figure()\n",
    "ax = plt.gca()\n",
    "ax.grid(False)\n",
    "# plt.scatter(X[:,2], X[:,3], marker='o', color='k', label='data (n=%i)' %(len(X)))\n",
    "# plt.plot(X[:,2], fit_fn_vglut(X[:,2]), '--x', label='line-regression (r=%0.2f)' %(vglut_r_value))\n",
    "\n",
    "ax.set_xlabel('VGlut1 (first measurement)')\n",
    "ax.set_ylabel('VGlut1 (second measurement)')\n",
    "ax.set_title('Integrated Brightness Clustering With ' + str(num_clusters) + ' centers Using MiniBatchKMeans')\n",
    "ax.set_xticks(())\n",
    "ax.set_yticks(())\n",
    "plt.tight_layout()\n",
    "\n",
    "print \"For f0 features log transformed\""
   ]
  },
  {
   "cell_type": "code",
   "execution_count": null,
   "metadata": {
    "collapsed": true
   },
   "outputs": [],
   "source": []
  }
 ],
 "metadata": {
  "kernelspec": {
   "display_name": "Python 2",
   "language": "python",
   "name": "python2"
  },
  "language_info": {
   "codemirror_mode": {
    "name": "ipython",
    "version": 2
   },
   "file_extension": ".py",
   "mimetype": "text/x-python",
   "name": "python",
   "nbconvert_exporter": "python",
   "pygments_lexer": "ipython2",
   "version": "2.7.11"
  }
 },
 "nbformat": 4,
 "nbformat_minor": 0
}
