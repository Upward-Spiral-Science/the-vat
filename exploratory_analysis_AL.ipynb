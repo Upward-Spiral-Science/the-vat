{
 "cells": [
  {
   "cell_type": "markdown",
   "metadata": {},
   "source": [
    "# Exploratory Data Analysis\n",
    "Written by: Adam Li\n",
    "Exploration of the dataset from https://github.com/Upward-Spiral-Science/data/tree/master/syn-diversity.\n",
    "\n",
    "We are looking at the feature matrix and the location matrix."
   ]
  },
  {
   "cell_type": "code",
   "execution_count": 1,
   "metadata": {
    "collapsed": false
   },
   "outputs": [
    {
     "name": "stderr",
     "output_type": "stream",
     "text": [
      "/Users/adam2392/anaconda/lib/python2.7/site-packages/matplotlib/__init__.py:872: UserWarning: axes.color_cycle is deprecated and replaced with axes.prop_cycle; please use the latter.\n",
      "  warnings.warn(self.msg_depr % (key, alt_key))\n"
     ]
    }
   ],
   "source": [
    "# Import Necessary Libraries\n",
    "import numpy as np\n",
    "import os, csv, json\n",
    "\n",
    "from matplotlib import *\n",
    "from matplotlib import pyplot as plt\n",
    "\n",
    "from mpl_toolkits.mplot3d import Axes3D\n",
    "import scipy\n",
    "from sklearn.decomposition import PCA\n",
    "import skimage.measure\n",
    "\n",
    "# pretty charting\n",
    "import seaborn as sns\n",
    "sns.set_palette('muted')\n",
    "sns.set_style('darkgrid')\n",
    "\n",
    "%matplotlib inline"
   ]
  },
  {
   "cell_type": "code",
   "execution_count": 2,
   "metadata": {
    "collapsed": false
   },
   "outputs": [],
   "source": [
    "#### RUN AT BEGINNING AND TRY NOT TO RUN AGAIN - TAKES WAY TOO LONG ####\n",
    "# load in the feature data\n",
    "list_of_features = []\n",
    "with open('synapsinR_7thA.tif.Pivots.txt.2011Features.txt') as file:\n",
    "    for line in file:\n",
    "        inner_list = [float(elt.strip()) for elt in line.split(',')]\n",
    "        \n",
    "        # create list of features\n",
    "        list_of_features.append(inner_list)\n",
    "\n",
    "# conver to a numpy matrix\n",
    "list_of_features = np.array(list_of_features)"
   ]
  },
  {
   "cell_type": "code",
   "execution_count": 3,
   "metadata": {
    "collapsed": true
   },
   "outputs": [],
   "source": [
    "# load in volume data\n",
    "list_of_locations = []\n",
    "with open('synapsinR_7thA.tif.Pivots.txt') as file:\n",
    "    for line in file:\n",
    "        inner_list = [float(elt.strip()) for elt in line.split(',')]\n",
    "        \n",
    "        # create list of features\n",
    "        list_of_locations.append(inner_list)\n",
    "\n",
    "# conver to a numpy matrix\n",
    "list_of_locations = np.array(list_of_locations)"
   ]
  },
  {
   "cell_type": "markdown",
   "metadata": {},
   "source": [
    "## Missing Values?\n",
    "* There are no missing values based on our csv read function\n",
    "* These are all numbers"
   ]
  },
  {
   "cell_type": "code",
   "execution_count": 19,
   "metadata": {
    "collapsed": false
   },
   "outputs": [
    {
     "name": "stdout",
     "output_type": "stream",
     "text": [
      "The size of the feature matrix is:  (1119299, 144)\n",
      "The size of the location matrix is:  (1119299, 3)\n",
      "min and max are:\n",
      "[28.0, 23.0, 2.0]\n",
      "[1513.0, 12980.0, 40.0]\n"
     ]
    }
   ],
   "source": [
    "def find_first(item, vec):\n",
    "    \"\"\"return the index of the first occurence of item in vec\"\"\"\n",
    "    for i in xrange(len(vec)):\n",
    "        if item == vec[i]:\n",
    "            return i\n",
    "    return -1\n",
    "\n",
    "min_location = []\n",
    "max_location = []\n",
    "\n",
    "x_range = list_of_locations[:, 0]\n",
    "y_range = list_of_locations[:, 1]\n",
    "z_range = list_of_locations[:, 2]\n",
    "\n",
    "mins = [min(x_range), min(y_range), min(z_range)]\n",
    "maxs = [max(x_range), max(y_range), max(z_range)]\n",
    "\n",
    "# find min/max values and where they occur\n",
    "min_location = [\n",
    "    {min(x_range): find_first(min(x_range), x_range)},  \n",
    "    {min(y_range): find_first(min(y_range), y_range)},\n",
    "    {min(z_range): find_first(min(z_range), z_range)}\n",
    "]\n",
    "max_location = [\n",
    "    {max(x_range): find_first(max(x_range), x_range)},  \n",
    "    {max(y_range): find_first(max(y_range), y_range)},\n",
    "    {max(z_range): find_first(max(z_range), z_range)}\n",
    "]\n",
    "# max_location = [max(x_range), max(y_range), max(z_range)]\n",
    "\n",
    "# print some basic stats about the list of features and locations\n",
    "print \"The size of the feature matrix is: \", list_of_features.shape\n",
    "print \"The size of the location matrix is: \", list_of_locations.shape\n",
    "\n",
    "print \"min and max are:\"\n",
    "print mins\n",
    "print maxs\n",
    "\n",
    "# for i in range(0, len(min_location)):\n",
    "#     print json.dumps(min_location[i], indent=4, separators=(',', ': '))\n",
    "#     print json.dumps(max_location[i], indent=4, separators=(',', ': '))\n"
   ]
  },
  {
   "cell_type": "markdown",
   "metadata": {},
   "source": [
    "## Features \n",
    "f0 = integrated brightness \n",
    "f1 = local brightness \n",
    "f2 = distance to Center of Mass \n",
    "f3 = moment of inertia around synapse\n",
    "\n",
    "Joshua says we can throw out f4 and f5?\n",
    "\n",
    "Synapse Data:\n",
    "Excitatory presynaptic: ‘Synap’, ‘Synap’, ‘VGlut1’, ‘VGlut1’, ‘VGlut2’,\n",
    "Excitatory postsynaptic: ‘psd’, ‘glur2’, ‘nmdar1’, ’nr2b’, ’NOS’, ’Synapo’ (but further away than PSD, gluR2, nmdar1 and nr2b) \n",
    "Inhibitory presynaptic: ‘gad’, ‘VGAT’, ‘PV’, \n",
    "Inhibitory postsynaptic: ‘Gephyr’, ‘GABAR1’, ‘GABABR’, ’NOS’, \n",
    "At a very small number of inhibitory: ‘Vglut3’ (presynaptic), ’CR1’(presynaptic), \n",
    "Other synapses:‘5HT1A’, ‘TH’, ’VACht’, \n",
    "Not at synapses: ‘tubuli’, ‘DAPI’."
   ]
  },
  {
   "cell_type": "code",
   "execution_count": 18,
   "metadata": {
    "collapsed": false
   },
   "outputs": [
    {
     "name": "stdout",
     "output_type": "stream",
     "text": [
      "Feature matrix for this certain metric is of size:  (1119299, 24)\n"
     ]
    }
   ],
   "source": [
    "# Create feature matrices for each feature f0,...,f5\n",
    "f0_features = list_of_features[:, 24*0:24*(0+1)]\n",
    "f1_features = list_of_features[:,24*1:24*(1+1)]\n",
    "f2_features = list_of_features[:,24*2:24*(2+1)]\n",
    "f3_features = list_of_features[:,24*3:24*(3+1)]\n",
    "f4_features = list_of_features[:,24*4:24*(4+1)]\n",
    "f5_features = list_of_features[:,24*5:24*(5+1)]\n",
    "\n",
    "print \"Each feature matrix represents\"\n",
    "print \"Feature matrix for this certain metric is of size: \", f0_features.shape"
   ]
  },
  {
   "cell_type": "code",
   "execution_count": 35,
   "metadata": {
    "collapsed": false
   },
   "outputs": [
    {
     "name": "stdout",
     "output_type": "stream",
     "text": [
      "(1119299,)\n"
     ]
    }
   ],
   "source": [
    "###### Create Volume Feature Vector ######\n",
    "# 01: normalize\n",
    "x_locations = list_of_locations[:,0]/max(x_range)\n",
    "y_locations = list_of_locations[:,1]/max(y_range)\n",
    "z_locations = list_of_locations[:,2]/max(z_range)\n",
    "\n",
    "# 02: map onto 1 + 10 + 100\n",
    "feature_location = x_locations + 10*y_locations + 100*z_locations\n",
    "\n",
    "# end is a feature vector describing point in space"
   ]
  }
 ],
 "metadata": {
  "kernelspec": {
   "display_name": "Python 2",
   "language": "python",
   "name": "python2"
  },
  "language_info": {
   "codemirror_mode": {
    "name": "ipython",
    "version": 2
   },
   "file_extension": ".py",
   "mimetype": "text/x-python",
   "name": "python",
   "nbconvert_exporter": "python",
   "pygments_lexer": "ipython2",
   "version": "2.7.11"
  }
 },
 "nbformat": 4,
 "nbformat_minor": 0
}
