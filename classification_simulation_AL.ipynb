{
 "cells": [
  {
   "cell_type": "markdown",
   "metadata": {},
   "source": [
    "# Classification and Regression\n",
    "By: Adam Li\n",
    "\n",
    "1. State Assumptions\n",
    "2. Formally define a classification and regression problem\n",
    "3. Provide an algorithm to solve classification/regression\n",
    "4. Sample simulated data \n",
    "5. Compute accuracy\n",
    "6. Plot accuracy vs. N\n",
    "7. \n",
    "\n",
    "Bayes Optimal Classifier\n",
    "g = argmin ( E[loss(g(x), y)] )\n",
    "\n",
    "g = argmax(F(x=x|y=y)*F(y=y))\n",
    "\n",
    "leave 1 out analysis\n",
    "\n",
    "LDA\n",
    "SVM\n",
    "Logistic Regression"
   ]
  },
  {
   "cell_type": "markdown",
   "metadata": {},
   "source": [
    "### Linear Discriminant Analysis\n",
    "Under the assumption of F(x|y) = N(u, 1) and F(y) = Bernoulli(pi). Variances are same across classes.\n",
    "- very interpretable\n",
    "- fast \n",
    "- linear boundary \n",
    "\n",
    "### Quadratic Discriminant Analysis\n",
    "Under similar assumptions, except assume variances are different across classes.\n",
    "- interpretable\n",
    "- fast\n",
    "\n",
    "LDA and QDA converges to Bayes classifier under certain assumptions\n",
    "\n",
    "### K-nearest neighbors\n",
    "- not interpretable as LDA/QDA\n",
    "- not fast\n",
    "- consistent\n"
   ]
  },
  {
   "cell_type": "code",
   "execution_count": 1,
   "metadata": {
    "collapsed": true
   },
   "outputs": [],
   "source": [
    "# Import Necessary Libraries\n",
    "import numpy as np\n",
    "import os, csv, json\n",
    "\n",
    "from matplotlib import *\n",
    "from matplotlib import pyplot as plt\n",
    "\n",
    "from mpl_toolkits.mplot3d import Axes3D\n",
    "import scipy\n",
    "from sklearn.decomposition import PCA\n",
    "import skimage.measure\n",
    "from sklearn.cluster import MiniBatchKMeans\n",
    "\n",
    "# pretty charting\n",
    "import seaborn as sns\n",
    "sns.set_palette('muted')\n",
    "sns.set_style('darkgrid')\n",
    "\n",
    "%matplotlib inline"
   ]
  },
  {
   "cell_type": "code",
   "execution_count": null,
   "metadata": {
    "collapsed": true
   },
   "outputs": [],
   "source": []
  }
 ],
 "metadata": {
  "kernelspec": {
   "display_name": "Python 2",
   "language": "python",
   "name": "python2"
  },
  "language_info": {
   "codemirror_mode": {
    "name": "ipython",
    "version": 2
   },
   "file_extension": ".py",
   "mimetype": "text/x-python",
   "name": "python",
   "nbconvert_exporter": "python",
   "pygments_lexer": "ipython2",
   "version": "2.7.11"
  }
 },
 "nbformat": 4,
 "nbformat_minor": 0
}
